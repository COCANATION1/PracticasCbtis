{
 "cells": [
  {
   "cell_type": "code",
   "execution_count": 2,
   "metadata": {},
   "outputs": [],
   "source": [
    "# Algunas bibliotecas que ocuparemos\n",
    "import numpy as np\n",
    "import matplotlib.pyplot as plt\n",
    "from scipy.cluster.vq import kmeans2\n",
    "from numpy.linalg import *\n",
    "import pylab\n",
    "from sklearn import datasets\n"
   ]
  },
  {
   "cell_type": "markdown",
   "metadata": {},
   "source": [
    "![](iris.png)"
   ]
  },
  {
   "cell_type": "code",
   "execution_count": 8,
   "metadata": {},
   "outputs": [],
   "source": [
    "iris = datasets.load_iris()\n",
    "data = iris.data[:100]\n",
    "target = iris.target[:100]\n",
    "data = (data - data.min(axis=0))/(data.max(axis=0)-data.min(axis=0))\n",
    "P =len(data)\n"
   ]
  },
  {
   "cell_type": "code",
   "execution_count": 16,
   "metadata": {},
   "outputs": [
    {
     "data": {
      "image/png": "[encoded data removed]",
      "text/plain": [
       "<Figure size 432x288 with 1 Axes>"
      ]
     },
     "metadata": {
      "needs_background": "light"
     },
     "output_type": "display_data"
    }
   ],
   "source": [
    "colors = \"bgrcmykw\"\n",
    "for i in range(2):\n",
    "    points = data[target==i]\n",
    "    plt.plot(points[:,0], points[:,1], 'o', c=np.random.rand(3))\n",
    "    \n",
    "plt.show()"
   ]
  },
  {
   "cell_type": "code",
   "execution_count": 23,
   "metadata": {},
   "outputs": [],
   "source": [
    "def compute_mu_sigma(z, J):\n",
    "    mu, idx = kmeans2(z, J)\n",
    "    sigma = np.zeros(J)\n",
    "    for j in range(J):\n",
    "        delta = np.sort(norm(mu[j]- mu[:], axis = 1))\n",
    "        sigma[j] = (delta[1] + delta[2])/2.0\n",
    "    return mu, sigma"
   ]
  },
  {
   "cell_type": "code",
   "execution_count": 25,
   "metadata": {},
   "outputs": [
    {
     "name": "stdout",
     "output_type": "stream",
     "text": [
      "[[0.54814815 0.30208333 0.78170732 0.69705882]\n",
      " [0.39651416 0.75       0.12625538 0.10380623]\n",
      " [0.78148148 0.41458333 0.8902439  0.81176471]\n",
      " [0.37037037 0.17083333 0.63170732 0.58823529]\n",
      " [0.19191919 0.51515152 0.10569106 0.07664884]] [0.29588866 0.61116028 0.44547174 0.43798221 0.5716371 ]\n"
     ]
    }
   ],
   "source": [
    "J = 5\n",
    "mu, sigma = compute_mu_sigma(data, J)\n",
    "\n",
    "print mu, sigma"
   ]
  },
  {
   "cell_type": "code",
   "execution_count": 29,
   "metadata": {},
   "outputs": [
    {
     "data": {
      "image/png": "[encoded data removed]",
      "text/plain": [
       "<Figure size 432x288 with 1 Axes>"
      ]
     },
     "metadata": {
      "needs_background": "light"
     },
     "output_type": "display_data"
    }
   ],
   "source": [
    "axes = plt.axes()\n",
    "for i in range(2):\n",
    "    points = data[target==i]\n",
    "    plt.plot(points[:,0], points[:,1], 'o', c=np.random.rand(3))\n",
    "    \n",
    "for j in range(J):\n",
    "    plt.plot(mu[j,0], mu[j,1], '+', c='r')\n",
    "    circle2 = pylab.Circle(mu[j], radius = sigma[j]*0.25, alpha = .1)\n",
    "    axes.add_patch(circle2)\n",
    "    \n",
    "plt.show()"
   ]
  },
  {
   "cell_type": "code",
   "execution_count": 39,
   "metadata": {},
   "outputs": [
    {
     "name": "stdout",
     "output_type": "stream",
     "text": [
      "4.0\n",
      "0.0\n",
      "0.0\n"
     ]
    }
   ],
   "source": [
    "J= 10\n",
    "\n",
    "mu, sigma = compute_mu_sigma(data, J)\n",
    "\n",
    "def rbf(z, t, mu, sigma, w = None):\n",
    "    P = len(z)\n",
    "    J = len(sigma)\n",
    "    phi = np.ones((P,J+1))\n",
    "\n",
    "    for p in range(P):\n",
    "        for j in range(J):\n",
    "            phi[p,j] = np.e** (-np.abs(np.sum(z[p]-mu[j])))/ (2.0*sigma[j]*sigma[j])\n",
    "    if w is None:\n",
    "        w = np.dot(np.dot(pinv(np.dot(phi.T, phi)), phi.T), t)\n",
    "    o  = np.dot(phi,w)\n",
    "    o[o >= 0.5] = 1\n",
    "    o[o < 0.5] = 0\n",
    "    ecm = np.sum((o-t)*(o-t)) / P\n",
    "    return o, w, ecm\n",
    "\n",
    "idx = np.random.permutation(P)\n",
    "data_training = data[idx[:80]]\n",
    "target_training = target[idx[:80]]\n",
    "data_testing = data[idx[80:]]\n",
    "target_testing = target[idx[80:]]\n",
    "\n",
    "\n",
    "o,w,ecm = rbf(data_training,target_training, mu, sigma)\n",
    "print np.sum(np.abs((o-target_training)))\n",
    "\n",
    "o,_,ecm = rbf(data_testing,target_testing, mu, sigma, w)\n",
    "print np.sum(np.abs((o-target_testing)))\n",
    "\n",
    "\n",
    "print ecm\n",
    "    \n",
    "            "
   ]
  }
 ],
 "metadata": {
  "kernelspec": {
   "display_name": "Python 3",
   "language": "python",
   "name": "python3"
  },
  "language_info": {
   "codemirror_mode": {
    "name": "ipython",
    "version": 2
   },
   "file_extension": ".py",
   "mimetype": "text/x-python",
   "name": "python",
   "nbconvert_exporter": "python",
   "pygments_lexer": "ipython2",
   "version": "2.7.15"
  }
 },
 "nbformat": 4,
 "nbformat_minor": 2
}
